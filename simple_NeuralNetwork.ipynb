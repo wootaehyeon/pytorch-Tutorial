{
  "nbformat": 4,
  "nbformat_minor": 0,
  "metadata": {
    "colab": {
      "provenance": [],
      "toc_visible": true,
      "authorship_tag": "ABX9TyOw3SmAEFnL9YgYZilDTF+A",
      "include_colab_link": true
    },
    "kernelspec": {
      "name": "python3",
      "display_name": "Python 3"
    },
    "language_info": {
      "name": "python"
    }
  },
  "cells": [
    {
      "cell_type": "markdown",
      "metadata": {
        "id": "view-in-github",
        "colab_type": "text"
      },
      "source": [
        "<a href=\"https://colab.research.google.com/github/wootaehyeon/pytorch-Tutorial/blob/main/simple_NeuralNetwork.ipynb\" target=\"_parent\"><img src=\"https://colab.research.google.com/assets/colab-badge.svg\" alt=\"Open In Colab\"/></a>"
      ]
    },
    {
      "cell_type": "code",
      "execution_count": 1,
      "metadata": {
        "id": "0ca3ieGNYpLj"
      },
      "outputs": [],
      "source": [
        "import torch\n",
        "import torch.nn as nn #nn == neuralnetwork\n",
        "import torch.nn.functional as F #forward\n"
      ]
    },
    {
      "cell_type": "code",
      "source": [
        "#Create a Model class that imherits nn.Module\n",
        " #Input layer(4 features of the flower) ->\n",
        "  # Hidden Layer1(Number of neurons)->\n",
        "  #H2(n) -->\n",
        "  # output(3 classes)\n",
        "class Model(nn.Module):\n",
        "  def __init__(self, in_features = 4, h1 =8, h2 = 9, out_features = 3):\n",
        "    super(Model,self).__init__()\n",
        "    self.fc1 = nn.Linear(in_features, h1)\n",
        "    self.fc2 = nn.Linear(h1,h2)\n",
        "    self.out = nn.Linear(h2, out_features)\n",
        "\n",
        "  def forward(self, x):\n",
        "    x = F.relu(self.fc1(x)) #0이하 0취급\n",
        "    x = F.relu(self.fc2(x))\n",
        "    x = self.out(x)\n",
        "    return x\n"
      ],
      "metadata": {
        "id": "6vk1InkNZEFp"
      },
      "execution_count": 9,
      "outputs": []
    },
    {
      "cell_type": "code",
      "source": [
        "torch.manual_seed(41)\n",
        "model = Model()"
      ],
      "metadata": {
        "id": "xrjxoVe7al5W"
      },
      "execution_count": 10,
      "outputs": []
    }
  ]
}